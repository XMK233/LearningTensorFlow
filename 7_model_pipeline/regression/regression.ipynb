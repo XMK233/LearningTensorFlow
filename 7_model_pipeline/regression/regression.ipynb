{
 "cells": [
  {
   "cell_type": "heading",
   "metadata": {},
   "level": 1,
   "source": [
    "The regression model reference: \n",
    "\n",
    "https://www.cnblogs.com/hunttown/p/6807435.html"
   ]
  },
  {
   "cell_type": "code",
   "execution_count": 1,
   "metadata": {
    "collapsed": true
   },
   "outputs": [
    {
     "data": {
      "text/plain": [
       "<Figure size 640x480 with 1 Axes>"
      ]
     },
     "execution_count": 0,
     "metadata": {},
     "output_type": "execute_result"
    }
   ],
   "source": [
    "# import matplotlib\n",
    "# matplotlib.use('TkAgg')\n",
    "import numpy as np\n",
    "import tensorflow as tf\n",
    "import matplotlib.pyplot as plt\n",
    "from tensorflow.python.tools import inspect_checkpoint as chkp\n",
    "import os\n",
    "\n",
    "MODEL_SAVE_PATH = \"Reg_Model\"\n",
    "MODEL_NAME = \"model.ckpt\"\n",
    "SUMMARY_PATH = \"Reg_Logs\"\n",
    "\n",
    "# 随机生成若干个点，围绕在y=0.1x+0.3的直线周围\n",
    "num_points = 100\n",
    "vectors_set = []\n",
    "for i in range(num_points):\n",
    "    x1 = np.random.normal(0.0, 0.55)\n",
    "    y1 = x1 * 0.1 + 0.3 + np.random.normal(0.0, 0.03)\n",
    "    vectors_set.append([x1, y1])\n",
    "\n",
    "# 生成一些样本\n",
    "x_data = [v[0] for v in vectors_set]\n",
    "y_data = [v[1] for v in vectors_set]\n",
    "\n",
    "plt.scatter(x_data, y_data, c='r')\n",
    "plt.show()"
   ]
  },
  {
   "cell_type": "markdown",
   "metadata": {},
   "source": [
    "# Define the model and do the first training"
   ]
  },
  {
   "cell_type": "code",
   "execution_count": 2,
   "metadata": {
    "collapsed": false
   },
   "outputs": [
    {
     "name": "stdout",
     "output_type": "stream",
     "text": [
      "before training: \nW= [-0.9121053] b= [0.] loss= 0.39007932\n"
     ]
    }
   ],
   "source": [
    "# 生成1维W矩阵，取值是[-1, 1]之间的随机数\n",
    "W = tf.Variable(tf.random_uniform([1], -1.0, 1.0), name='W')\n",
    "# 生成1维b矩阵，初始值是0\n",
    "b = tf.Variable(tf.zeros([1]), name='b')\n",
    "# 经过计算取得预估值y\n",
    "x = tf.placeholder(tf.float32, name= \"input\")\n",
    "y = tf.add(tf.multiply(W, x_data), b, name= \"output\")\n",
    "\n",
    "# 以预估值y和实际值y_data之间的均方误差作为损失\n",
    "loss = tf.reduce_mean(tf.square(y - y_data), name='loss')\n",
    "# 采用梯度下降法来优化参数\n",
    "optimizer = tf.train.GradientDescentOptimizer(0.5)\n",
    "# 训练的过程就是最小化这个误差值\n",
    "train = optimizer.minimize(loss, name='train')\n",
    "\n",
    "sess = tf.Session()        #这种定义session的方法也可以，但是不推荐。\n",
    "init = tf.global_variables_initializer()\n",
    "sess.run(init)\n",
    "\n",
    "# 初始化的w和b是多少\n",
    "print(\"before training: \")\n",
    "print(\"W=\", sess.run(W), \"b=\", sess.run(b), \"loss=\", sess.run(loss))\n",
    "# 执行20次训练\n",
    "for step in range(5):\n",
    "    sess.run(train, feed_dict={x: x_data})\n"
   ]
  },
  {
   "cell_type": "markdown",
   "metadata": {},
   "source": [
    "# save the model for the first time"
   ]
  },
  {
   "cell_type": "code",
   "execution_count": 3,
   "metadata": {
    "collapsed": true
   },
   "outputs": [
    {
     "name": "stdout",
     "output_type": "stream",
     "text": [
      "tensor_name:  W\n[-0.11823598]\ntensor_name:  b\n[0.31116045]\n"
     ]
    }
   ],
   "source": [
    "saver = tf.train.Saver()\n",
    "saver.save(sess, os.path.join(MODEL_SAVE_PATH, MODEL_NAME))\n",
    "saver.export_meta_graph(os.path.join(MODEL_SAVE_PATH, MODEL_NAME) + \".json\", as_text=True)\n",
    "writer = tf.summary.FileWriter(os.path.join(SUMMARY_PATH, \"original\"), \n",
    "                               tf.get_default_graph())\n",
    "chkp.print_tensors_in_checkpoint_file(os.path.join(MODEL_SAVE_PATH, MODEL_NAME),\n",
    "                                      tensor_name='',\n",
    "                                      all_tensors=True)"
   ]
  },
  {
   "cell_type": "markdown",
   "metadata": {},
   "source": [
    "# retrain the model"
   ]
  },
  {
   "cell_type": "code",
   "execution_count": 4,
   "metadata": {},
   "outputs": [
    {
     "name": "stdout",
     "output_type": "stream",
     "text": [
      "INFO:tensorflow:Restoring parameters from Reg_Model/model.ckpt\n"
     ]
    },
    {
     "data": {
      "image/png": "[encoded data removed]",
      "text/plain": [
       "<Figure size 432x288 with 1 Axes>"
      ]
     },
     "metadata": {},
     "output_type": "display_data"
    },
    {
     "name": "stdout",
     "output_type": "stream",
     "text": [
      "tensor_name:  W\n[0.05457118]\ntensor_name:  b\n[0.29906148]\n"
     ]
    }
   ],
   "source": [
    "model = os.path.join(MODEL_SAVE_PATH, MODEL_NAME)\n",
    "saver = tf.train.import_meta_graph(model + '.meta',\n",
    "                                   clear_devices=True)\n",
    "\n",
    "with tf.Session() as sess:\n",
    "    saver.restore(sess, model)  # 恢复图并得到数据\n",
    "    graph = tf.get_default_graph()\n",
    "    x = graph.get_tensor_by_name(\"input:0\")\n",
    "    train_op = graph.get_operation_by_name(\"train\")\n",
    "\n",
    "    # 随机生成若干个点，围绕在y=0.1x+0.3的直线周围\n",
    "    num_points = 100\n",
    "    vectors_set = []\n",
    "    for i in range(num_points):\n",
    "        x1 = np.random.normal(0.0, 0.55)\n",
    "        y1 = x1 * 0.1 + 0.3 + np.random.normal(0.0, 0.03)\n",
    "        vectors_set.append([x1, y1])\n",
    "    # 生成一些样本\n",
    "    x_data1 = [v[0] for v in vectors_set]\n",
    "    y_data1 = [v[1] for v in vectors_set]\n",
    "\n",
    "    plt.scatter(x_data1, y_data1, c='r')\n",
    "    plt.show()\n",
    "\n",
    "    for step in range(5):\n",
    "        sess.run(train, feed_dict={x: x_data1})\n",
    "\n",
    "    saver.save(sess, model + \"_retrained\")\n",
    "    saver.export_meta_graph(model + \"_retrained\" + \".json\", as_text=True)\n",
    "    writer = tf.summary.FileWriter(os.path.join(SUMMARY_PATH, \"retrained\"), \n",
    "                               tf.get_default_graph())\n",
    "\n",
    "chkp.print_tensors_in_checkpoint_file(os.path.join(MODEL_SAVE_PATH, MODEL_NAME + \"_retrained\"),\n",
    "                                      tensor_name='',\n",
    "                                      all_tensors=True)"
   ]
  },
  {
   "cell_type": "markdown",
   "metadata": {},
   "source": [
    "-------------------------"
   ]
  },
  {
   "cell_type": "code",
   "execution_count": null,
   "metadata": {},
   "outputs": [],
   "source": [
    ""
   ]
  }
 ],
 "metadata": {
  "kernelspec": {
   "display_name": "Python 2",
   "language": "python",
   "name": "python2"
  },
  "language_info": {
   "codemirror_mode": {
    "name": "ipython",
    "version": 2
   },
   "file_extension": ".py",
   "mimetype": "text/x-python",
   "name": "python",
   "nbconvert_exporter": "python",
   "pygments_lexer": "ipython2",
   "version": "2.7.6"
  }
 },
 "nbformat": 4,
 "nbformat_minor": 0
}
