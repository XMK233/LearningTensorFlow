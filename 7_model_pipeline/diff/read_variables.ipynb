{
 "cells": [
  {
   "cell_type": "code",
   "execution_count": 13,
   "metadata": {
    "collapsed": true
   },
   "outputs": [],
   "source": [
    "import tensorflow as tf\n",
    "import json\n",
    "from deepdiff import DeepDiff\n",
    "\n",
    "def read_as_json(file):\n",
    "    with open(file, \"r\") as f:\n",
    "        return json.load(f)\n",
    "\n",
    "CNN_SAVE_PATH = \"CNN_model/\"\n",
    "CNN_NAME = \"cnn_model\"\n",
    "CNN_RETRAIN_NAME = \"cnn_model_retrained\"\n",
    "REG_SAVE_PATH = \"Reg_Model/\"\n",
    "REG_NAME = \"model.ckpt\"\n",
    "REG_RETRAIN_NAME = \"model.ckpt_retrained\"\n",
    "\n",
    "def variable_to_json(SAVE_PATH, NAME):\n",
    "    reader = tf.train.NewCheckpointReader(SAVE_PATH + NAME)\n",
    "    global_variables = reader.get_variable_to_shape_map()\n",
    "    \n",
    "    item = {}\n",
    "    for variable_name in global_variables:\n",
    "        item[variable_name] = {\"shape\": global_variables[variable_name],\n",
    "                               \"value\": reader.get_tensor(variable_name).tolist()}\n",
    "    \n",
    "    print(item)\n",
    "    with open(NAME + \".json\", \"w\") as v:\n",
    "        json.dump(item, v, sort_keys= True)#, indent= 4"
   ]
  },
  {
   "cell_type": "markdown",
   "metadata": {},
   "source": [
    "# save the variables into json file"
   ]
  },
  {
   "cell_type": "markdown",
   "metadata": {},
   "source": [
    "## save the cnn variables"
   ]
  },
  {
   "cell_type": "code",
   "execution_count": 11,
   "metadata": {},
   "outputs": [
    {
     "name": "stderr",
     "output_type": "stream",
     "text": [
      "IOPub data rate exceeded.\nThe notebook server will temporarily stop sending output\nto the client in order to avoid crashing it.\nTo change this limit, set the config variable\n`--NotebookApp.iopub_data_rate_limit`.\n\nCurrent values:\nNotebookApp.iopub_data_rate_limit=1000000.0 (bytes/sec)\nNotebookApp.rate_limit_window=3.0 (secs)\n\n"
     ]
    }
   ],
   "source": [
    "variable_to_json(CNN_SAVE_PATH, CNN_NAME)\n",
    "variable_to_json(CNN_SAVE_PATH, CNN_RETRAIN_NAME)"
   ]
  },
  {
   "cell_type": "markdown",
   "metadata": {},
   "source": [
    "## save the regression variables"
   ]
  },
  {
   "cell_type": "code",
   "execution_count": 12,
   "metadata": {},
   "outputs": [
    {
     "name": "stdout",
     "output_type": "stream",
     "text": [
      "{'W': {'value': [-0.1182359829545021], 'shape': [1]}, 'b': {'value': [0.31116044521331787], 'shape': [1]}}\n{'W': {'value': [0.054571181535720825], 'shape': [1]}, 'b': {'value': [0.29906147718429565], 'shape': [1]}}\n"
     ]
    }
   ],
   "source": [
    "variable_to_json(REG_SAVE_PATH, REG_NAME)\n",
    "variable_to_json(REG_SAVE_PATH, REG_RETRAIN_NAME)"
   ]
  },
  {
   "cell_type": "markdown",
   "metadata": {},
   "source": [
    "## do some diffing"
   ]
  },
  {
   "cell_type": "code",
   "execution_count": 14,
   "metadata": {},
   "outputs": [
    {
     "name": "stdout",
     "output_type": "stream",
     "text": [
      "{\"values_changed\": {\"root['b']['value'][0]\": {\"new_value\": 0.29906147718429565, \"old_value\": 0.31116044521331787}, \"root['W']['value'][0]\": {\"new_value\": 0.054571181535720825, \"old_value\": -0.1182359829545021}}}\n"
     ]
    }
   ],
   "source": [
    "ori = read_as_json(REG_NAME + \".json\")\n",
    "new = read_as_json(REG_RETRAIN_NAME + \".json\")\n",
    "print(DeepDiff(ori, new).json)"
   ]
  },
  {
   "cell_type": "code",
   "execution_count": null,
   "metadata": {},
   "outputs": [],
   "source": []
  }
 ],
 "metadata": {
  "kernelspec": {
   "display_name": "Python 2",
   "language": "python",
   "name": "python2"
  },
  "language_info": {
   "codemirror_mode": {
    "name": "ipython",
    "version": 2
   },
   "file_extension": ".py",
   "mimetype": "text/x-python",
   "name": "python",
   "nbconvert_exporter": "python",
   "pygments_lexer": "ipython2",
   "version": "2.7.6"
  }
 },
 "nbformat": 4,
 "nbformat_minor": 0
}
